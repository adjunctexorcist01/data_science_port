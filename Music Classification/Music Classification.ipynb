{
 "cells": [
  {
   "cell_type": "code",
   "execution_count": 21,
   "metadata": {},
   "outputs": [],
   "source": [
    "import warnings\n",
    "warnings.filterwarnings(\"ignore\", category = FutureWarning)\n",
    "\n",
    "import os\n",
    "import keras\n",
    "import h5py\n",
    "import librosa\n",
    "import itertools\n",
    "import numpy as np\n",
    "import matplotlib.pyplot as plt\n",
    "\n",
    "# Preprocessing\n",
    "from sklearn.model_selection import train_test_split\n",
    "from sklearn.preprocessing import LabelEncoder, StandardScaler\n",
    "\n",
    "from keras.utils import to_categorical\n",
    "from sklearn.model_selection import train_test_split\n",
    "from sklearn.metrics import confusion_matrix\n",
    "\n",
    "from keras.models import Sequential\n",
    "from keras.layers import Dense\n",
    "from keras.layers import Activation\n",
    "from keras.layers import Conv2D\n",
    "from keras.layers import MaxPooling2D\n",
    "from keras.layers import Dropout\n",
    "from keras.layers import Flatten\n",
    "from keras.layers import BatchNormalization"
   ]
  },
  {
   "cell_type": "markdown",
   "metadata": {},
   "source": [
    "# Loading the Data"
   ]
  },
  {
   "cell_type": "markdown",
   "metadata": {},
   "source": [
    "### Defining general functions"
   ]
  },
  {
   "cell_type": "code",
   "execution_count": 34,
   "metadata": {},
   "outputs": [],
   "source": [
    "# Function to split a single song into overlapping windows of the same\n",
    "import more_itertools as it_plus\n",
    "\n",
    "# def split_window(arr, genre, chunk_size=0.1, step_size=1):\n",
    "    \n",
    "#     # Get the window size\n",
    "#     window_size = int(X.shape[0]*chunk_size)\n",
    "#     final_arr_x = list(it_plus.windowed(X, n=window_size, step=step_size))\n",
    "#     final_arr_y = [genre for x in range(len(final_arr_x))]\n",
    "#     print(final_arr_x)\n",
    "#     return np.array(final_arr_x), np.array(final_arr_y)\n",
    "\n",
    "def split_window(X, y, window = 0.1, overlap = 0.5):\n",
    "    # Empty lists to hold our results\n",
    "    temp_X = []\n",
    "    temp_y = []\n",
    "\n",
    "    # Get the input song array size\n",
    "    xshape = X.shape[0]\n",
    "    chunk = int(xshape*window)\n",
    "    offset = int(chunk*(1.-overlap))\n",
    "    \n",
    "    # Split the song and create new ones on windows\n",
    "    spsong = [X[i:i+chunk] for i in range(0, xshape - chunk + offset, offset)]\n",
    "    for s in spsong:\n",
    "        temp_X.append(s)\n",
    "        temp_y.append(y)\n",
    "\n",
    "    return np.array(temp_X), np.array(temp_y)"
   ]
  },
  {
   "cell_type": "code",
   "execution_count": 33,
   "metadata": {},
   "outputs": [],
   "source": [
    "#Function to convert songs into their respective Melspectograms\n",
    "#https://github.com/Hguimaraes/gtzan.keras/blob/master/src/gtzan/struct.py\n",
    "\n",
    "def to_melspec(song, n_fft=1024, hop_len=512):\n",
    "    #Transform into spectograms\n",
    "    melspec = lambda x: librosa.feature.melspectrogram(x,n_fft = n_fft,hop_length = hop_len)[:,:,np.newaxis]\n",
    "    transformed_songs = map(melspec, song)\n",
    "    return np.array(list(transformed_songs))"
   ]
  },
  {
   "cell_type": "code",
   "execution_count": 36,
   "metadata": {},
   "outputs": [],
   "source": [
    "#https://github.com/Hguimaraes/gtzan.keras/blob/master/src/gtzan/struct.py\n",
    "\n",
    "def read_data(src_dir, genres, song_samples, spec_format, chunk_size=0.1, step_size=1, debug = True):    \n",
    "    # Empty array of dicts with the processed features from all files\n",
    "    arr_specs = []\n",
    "    arr_genres = []\n",
    "\n",
    "    # Read files from the folders\n",
    "    for x,_ in genres.items():\n",
    "        folder = src_dir + x\n",
    "        \n",
    "        for root, subdirs, files in os.walk(folder):\n",
    "            for file in files:\n",
    "                # Read the audio file\n",
    "                file_name = folder + \"/\" + file\n",
    "                signal, sr = librosa.load(file_name)\n",
    "                signal = signal[:song_samples]\n",
    "                \n",
    "                # Debug process\n",
    "                if debug:\n",
    "                    print(\"Reading file: {}\".format(file_name))\n",
    "                \n",
    "                # Convert to dataset of spectograms/melspectograms\n",
    "                signals, y = split_window(signal, genres[x])\n",
    "                \n",
    "                # Convert to \"spec\" representation\n",
    "                specs = spec_format(signals)\n",
    "                \n",
    "                # Save files\n",
    "                arr_genres.extend(y)\n",
    "                arr_specs.extend(specs)\n",
    "                \n",
    "                \n",
    "    return np.array(arr_specs), np.array(arr_genres)"
   ]
  },
  {
   "cell_type": "code",
   "execution_count": 37,
   "metadata": {},
   "outputs": [
    {
     "name": "stdout",
     "output_type": "stream",
     "text": [
      "E:\\Work\\Case Study\\Music Classification/genres/\n"
     ]
    }
   ],
   "source": [
    "print(os.getcwd()+\"/genres/\")"
   ]
  },
  {
   "cell_type": "code",
   "execution_count": 38,
   "metadata": {},
   "outputs": [],
   "source": [
    "if not (os.path.isfile(\"x_gtzan_npy.npy\") or os.path.isfile(\"y_gtzan_npy.npy\")):\n",
    "    # Parameters\n",
    "    gtzan_dir = os.getcwd()+\"/genres/\"\n",
    "    song_samples = 660000\n",
    "    genres = {'metal': 0, 'disco': 1, 'classical': 2, 'hiphop': 3, 'jazz': 4, \n",
    "              'country': 5, 'pop': 6, 'blues': 7, 'reggae': 8, 'rock': 9}\n",
    "\n",
    "    # Read the data\n",
    "    X, y = read_data(gtzan_dir, genres, song_samples, to_melspec, debug=False)\n",
    "    np.save('x_gtzan_npy.npy', X)\n",
    "    np.save('y_gtzan_npy.npy', y)"
   ]
  },
  {
   "cell_type": "code",
   "execution_count": 41,
   "metadata": {},
   "outputs": [],
   "source": [
    "X = np.load('x_gtzan_npy.npy')\n",
    "y = np.load('y_gtzan_npy.npy')"
   ]
  },
  {
   "cell_type": "markdown",
   "metadata": {},
   "source": [
    "## Building DL models"
   ]
  },
  {
   "cell_type": "code",
   "execution_count": 46,
   "metadata": {},
   "outputs": [],
   "source": [
    "import matplotlib.pyplot as plt\n",
    "import numpy as np\n",
    "import time\n",
    "# https://gist.github.com/greydanus/f6eee59eaf1d90fcb3b534a25362cea4\n",
    "# https://stackoverflow.com/a/14434334\n",
    "# this function is used to update the plots for each epoch and error\n",
    "def plt_dynamic(x, vy, ty, ax, colors=['b']):\n",
    "    ax.plot(x, vy, 'b', label=\"Validation Loss\")\n",
    "    ax.plot(x, ty, 'r', label=\"Train Loss\")\n",
    "    plt.legend()\n",
    "    plt.grid()\n",
    "    fig.canvas.draw()"
   ]
  },
  {
   "cell_type": "code",
   "execution_count": 42,
   "metadata": {},
   "outputs": [],
   "source": [
    "# One hot encoding of the labels\n",
    "y = to_categorical(y)"
   ]
  },
  {
   "cell_type": "code",
   "execution_count": 44,
   "metadata": {},
   "outputs": [],
   "source": [
    "X_train, X_test, y_train, y_test = train_test_split(X, y, test_size=0.3, random_state=0, stratify = y)"
   ]
  },
  {
   "cell_type": "markdown",
   "metadata": {},
   "source": [
    "### CNN"
   ]
  },
  {
   "cell_type": "code",
   "execution_count": 134,
   "metadata": {},
   "outputs": [],
   "source": [
    "from keras.models import Sequential\n",
    "from keras.layers import LSTM, BatchNormalization, TimeDistributed, Input\n",
    "from keras.layers.core import Dense, Dropout\n",
    "import keras"
   ]
  },
  {
   "cell_type": "code",
   "execution_count": 151,
   "metadata": {},
   "outputs": [
    {
     "name": "stdout",
     "output_type": "stream",
     "text": [
      "128\n",
      "129\n",
      "(13300, 128, 129, 1)\n"
     ]
    }
   ],
   "source": [
    "# Model Definition\n",
    "timesteps = len(X_train[0])\n",
    "input_dim = len(X_train[0][0])\n",
    "print(timesteps)\n",
    "print(input_dim)\n",
    "print(X_train.shape)\n",
    "num_genres = 10"
   ]
  },
  {
   "cell_type": "code",
   "execution_count": 179,
   "metadata": {},
   "outputs": [],
   "source": [
    "# inp_shape = Input(shape=X_train[0].shape)\n",
    "# print(inp_shape)\n",
    "# #Model 1\n",
    "# model_1 = Conv2D(64,(4,4), padding='same', activation='relu')(inp_shape)\n",
    "# model_1 = MaxPooling2D((2,2), strides=(1,1), padding='same')(model_1)\n",
    "# model_1 = Dropout(0.5)(model_1)\n",
    "# model_1 = Conv2D(128,(4,4), padding='same', activation='relu')(model_1)\n",
    "# model_1 = MaxPooling2D((2,2), strides=(1,1), padding='same')(model_1)\n",
    "# # model_1 = Flatten()(model_1)\n",
    "# # model_1 = Dropout(0.8)(model_1)\n",
    "\n",
    "# #Model 2\n",
    "# model_2 = LSTM(64, kernel_initializer=keras.initializers.glorot_normal(seed=None), return_sequences=True)(inp_shape)\n",
    "# model_2 = Dropout(0.8)(model_2)\n",
    "# model_2 = LSTM(128, kernel_initializer=keras.initializers.glorot_normal(seed=None))(model_2)\n",
    "# model_2 = Dropout(0.6)(model_2)\n",
    "# merged = keras.layers.concatenate([model_1, model_2], axis=1)\n",
    "# out = Dense(64, activation='relu')(merged)\n",
    "# out = Dropout(0.7)(merged)\n",
    "# out = Dense(num_genres, activation='softmax')(out)\n",
    "# model = Model(input_shape, out)\n",
    "# model.summary()\n",
    "# model.compile(loss='categorical_crossentropy', optimizer='adam', metrics=['accuracy'])"
   ]
  },
  {
   "cell_type": "code",
   "execution_count": 192,
   "metadata": {},
   "outputs": [
    {
     "name": "stdout",
     "output_type": "stream",
     "text": [
      "_________________________________________________________________\n",
      "Layer (type)                 Output Shape              Param #   \n",
      "=================================================================\n",
      "conv2d_127 (Conv2D)          (None, 126, 127, 16)      160       \n",
      "_________________________________________________________________\n",
      "max_pooling2d_100 (MaxPoolin (None, 63, 63, 16)        0         \n",
      "_________________________________________________________________\n",
      "dropout_104 (Dropout)        (None, 63, 63, 16)        0         \n",
      "_________________________________________________________________\n",
      "conv2d_128 (Conv2D)          (None, 61, 61, 32)        4640      \n",
      "_________________________________________________________________\n",
      "max_pooling2d_101 (MaxPoolin (None, 30, 30, 32)        0         \n",
      "_________________________________________________________________\n",
      "dropout_105 (Dropout)        (None, 30, 30, 32)        0         \n",
      "_________________________________________________________________\n",
      "conv2d_129 (Conv2D)          (None, 28, 28, 64)        18496     \n",
      "_________________________________________________________________\n",
      "max_pooling2d_102 (MaxPoolin (None, 14, 14, 64)        0         \n",
      "_________________________________________________________________\n",
      "dropout_106 (Dropout)        (None, 14, 14, 64)        0         \n",
      "_________________________________________________________________\n",
      "conv2d_130 (Conv2D)          (None, 12, 12, 128)       73856     \n",
      "_________________________________________________________________\n",
      "max_pooling2d_103 (MaxPoolin (None, 6, 6, 128)         0         \n",
      "_________________________________________________________________\n",
      "dropout_107 (Dropout)        (None, 6, 6, 128)         0         \n",
      "_________________________________________________________________\n",
      "conv2d_131 (Conv2D)          (None, 4, 4, 64)          73792     \n",
      "_________________________________________________________________\n",
      "max_pooling2d_104 (MaxPoolin (None, 1, 1, 64)          0         \n",
      "_________________________________________________________________\n",
      "dropout_108 (Dropout)        (None, 1, 1, 64)          0         \n",
      "_________________________________________________________________\n",
      "flatten_48 (Flatten)         (None, 64)                0         \n",
      "_________________________________________________________________\n",
      "dense_48 (Dense)             (None, 10)                650       \n",
      "=================================================================\n",
      "Total params: 171,594\n",
      "Trainable params: 171,594\n",
      "Non-trainable params: 0\n",
      "_________________________________________________________________\n"
     ]
    }
   ],
   "source": [
    "# Model Definition\n",
    "input_shape = X_train[0].shape\n",
    "num_genres = 10\n",
    "\n",
    "model = Sequential()\n",
    "# Conv Block 1\n",
    "model.add(Conv2D(16, kernel_size=(3, 3), strides=(1, 1),\n",
    "                 activation='relu', input_shape=input_shape))\n",
    "model.add(MaxPooling2D(pool_size=(2, 2), strides=(2, 2)))\n",
    "model.add(Dropout(0.25))\n",
    "\n",
    "# Conv Block 2\n",
    "model.add(Conv2D(32, (3, 3), strides=(1, 1), activation='relu'))\n",
    "model.add(MaxPooling2D(pool_size=(2, 2), strides=(2, 2)))\n",
    "model.add(Dropout(0.25))\n",
    "\n",
    "# Conv Block 3\n",
    "model.add(Conv2D(64, (3, 3), strides=(1, 1), activation='relu'))\n",
    "model.add(MaxPooling2D(pool_size=(2, 2), strides=(2, 2)))\n",
    "model.add(Dropout(0.25))\n",
    "\n",
    "# Conv Block 4\n",
    "model.add(Conv2D(128, (3, 3), strides=(1, 1), activation='relu'))\n",
    "model.add(MaxPooling2D(pool_size=(2, 2), strides=(2, 2)))\n",
    "model.add(Dropout(0.4))\n",
    "\n",
    "# Conv Block 5\n",
    "model.add(Conv2D(64, (3, 3), strides=(1, 1), activation='relu'))\n",
    "model.add(MaxPooling2D(pool_size=(4, 4), strides=(4, 4)))\n",
    "model.add(Dropout(0.3))\n",
    "\n",
    "# MLP\n",
    "model.add(Flatten())\n",
    "model.add(Dense(num_genres, activation='softmax'))\n",
    "\n",
    "model.summary()"
   ]
  },
  {
   "cell_type": "code",
   "execution_count": 193,
   "metadata": {},
   "outputs": [
    {
     "data": {
      "text/plain": [
       "(128, 129, 1)"
      ]
     },
     "execution_count": 193,
     "metadata": {},
     "output_type": "execute_result"
    }
   ],
   "source": [
    "X_train[0].shape"
   ]
  },
  {
   "cell_type": "code",
   "execution_count": 194,
   "metadata": {},
   "outputs": [],
   "source": [
    "model.compile(loss=keras.losses.categorical_crossentropy,\n",
    "              optimizer=keras.optimizers.Adam(),\n",
    "              metrics=['accuracy'])"
   ]
  },
  {
   "cell_type": "code",
   "execution_count": 195,
   "metadata": {},
   "outputs": [
    {
     "name": "stdout",
     "output_type": "stream",
     "text": [
      "Train on 13300 samples, validate on 5700 samples\n",
      "Epoch 1/40\n",
      "13300/13300 [==============================] - 99s 7ms/step - loss: 2.3367 - acc: 0.1909 - val_loss: 2.1427 - val_acc: 0.2177\n",
      "Epoch 2/40\n",
      "13300/13300 [==============================] - 98s 7ms/step - loss: 2.0150 - acc: 0.2623 - val_loss: 1.9725 - val_acc: 0.2581\n",
      "Epoch 3/40\n",
      "13300/13300 [==============================] - 101s 8ms/step - loss: 1.8090 - acc: 0.3523 - val_loss: 1.7299 - val_acc: 0.3728\n",
      "Epoch 4/40\n",
      "13300/13300 [==============================] - 101s 8ms/step - loss: 1.6439 - acc: 0.4183 - val_loss: 1.5884 - val_acc: 0.4254\n",
      "Epoch 5/40\n",
      "13300/13300 [==============================] - 101s 8ms/step - loss: 1.5231 - acc: 0.4613 - val_loss: 1.4060 - val_acc: 0.5156\n",
      "Epoch 6/40\n",
      "13300/13300 [==============================] - 102s 8ms/step - loss: 1.4365 - acc: 0.4942 - val_loss: 1.4398 - val_acc: 0.4811\n",
      "Epoch 7/40\n",
      "13300/13300 [==============================] - 102s 8ms/step - loss: 1.3813 - acc: 0.5115 - val_loss: 1.3026 - val_acc: 0.5612\n",
      "Epoch 8/40\n",
      "13300/13300 [==============================] - 102s 8ms/step - loss: 1.3043 - acc: 0.5430 - val_loss: 1.2263 - val_acc: 0.5756\n",
      "Epoch 9/40\n",
      "13300/13300 [==============================] - 102s 8ms/step - loss: 1.2677 - acc: 0.5605 - val_loss: 1.1636 - val_acc: 0.6372\n",
      "Epoch 10/40\n",
      "13300/13300 [==============================] - 102s 8ms/step - loss: 1.2190 - acc: 0.5804 - val_loss: 1.1047 - val_acc: 0.6430\n",
      "Epoch 11/40\n",
      "13300/13300 [==============================] - 100s 7ms/step - loss: 1.1745 - acc: 0.5956 - val_loss: 1.1376 - val_acc: 0.6154\n",
      "Epoch 12/40\n",
      "13300/13300 [==============================] - 93s 7ms/step - loss: 1.1474 - acc: 0.6098 - val_loss: 1.0446 - val_acc: 0.6532\n",
      "Epoch 13/40\n",
      "13300/13300 [==============================] - 94s 7ms/step - loss: 1.1025 - acc: 0.6258 - val_loss: 1.0166 - val_acc: 0.6663\n",
      "Epoch 14/40\n",
      "13300/13300 [==============================] - 99s 7ms/step - loss: 1.0709 - acc: 0.6330 - val_loss: 1.0142 - val_acc: 0.6600\n",
      "Epoch 15/40\n",
      "13300/13300 [==============================] - 95s 7ms/step - loss: 1.0466 - acc: 0.6473 - val_loss: 0.9887 - val_acc: 0.6667\n",
      "Epoch 16/40\n",
      "13300/13300 [==============================] - 94s 7ms/step - loss: 1.0117 - acc: 0.6562 - val_loss: 0.8966 - val_acc: 0.6977\n",
      "Epoch 17/40\n",
      "13300/13300 [==============================] - 96s 7ms/step - loss: 0.9957 - acc: 0.6601 - val_loss: 0.8685 - val_acc: 0.7128\n",
      "Epoch 18/40\n",
      "13300/13300 [==============================] - 95s 7ms/step - loss: 0.9696 - acc: 0.6708 - val_loss: 0.8760 - val_acc: 0.7258\n",
      "Epoch 19/40\n",
      "13300/13300 [==============================] - 97s 7ms/step - loss: 0.9599 - acc: 0.6752 - val_loss: 0.8308 - val_acc: 0.7337\n",
      "Epoch 20/40\n",
      "13300/13300 [==============================] - 95s 7ms/step - loss: 0.9178 - acc: 0.6947 - val_loss: 0.8673 - val_acc: 0.7100\n",
      "Epoch 21/40\n",
      "13300/13300 [==============================] - 95s 7ms/step - loss: 0.9079 - acc: 0.6964 - val_loss: 0.7874 - val_acc: 0.7482\n",
      "Epoch 22/40\n",
      "13300/13300 [==============================] - 95s 7ms/step - loss: 0.8863 - acc: 0.7019 - val_loss: 0.7773 - val_acc: 0.7528\n",
      "Epoch 23/40\n",
      "13300/13300 [==============================] - 95s 7ms/step - loss: 0.8728 - acc: 0.7053 - val_loss: 0.7874 - val_acc: 0.7533\n",
      "Epoch 24/40\n",
      "13300/13300 [==============================] - 96s 7ms/step - loss: 0.8519 - acc: 0.7158 - val_loss: 0.7709 - val_acc: 0.7454\n",
      "Epoch 25/40\n",
      "13300/13300 [==============================] - 96s 7ms/step - loss: 0.8343 - acc: 0.7222 - val_loss: 0.7457 - val_acc: 0.7530\n",
      "Epoch 26/40\n",
      "13300/13300 [==============================] - 97s 7ms/step - loss: 0.7856 - acc: 0.7359 - val_loss: 0.7097 - val_acc: 0.7612\n",
      "Epoch 27/40\n",
      "13300/13300 [==============================] - 98s 7ms/step - loss: 0.7815 - acc: 0.7388 - val_loss: 0.7259 - val_acc: 0.7628\n",
      "Epoch 28/40\n",
      "13300/13300 [==============================] - 97s 7ms/step - loss: 0.7875 - acc: 0.7335 - val_loss: 0.6922 - val_acc: 0.7725\n",
      "Epoch 29/40\n",
      "13300/13300 [==============================] - 96s 7ms/step - loss: 0.7692 - acc: 0.7441 - val_loss: 0.6596 - val_acc: 0.7842\n",
      "Epoch 30/40\n",
      "13300/13300 [==============================] - 99s 7ms/step - loss: 0.7500 - acc: 0.7495 - val_loss: 0.6796 - val_acc: 0.7793\n",
      "Epoch 31/40\n",
      "13300/13300 [==============================] - 97s 7ms/step - loss: 0.7386 - acc: 0.7533 - val_loss: 0.6411 - val_acc: 0.7947\n",
      "Epoch 32/40\n",
      "13300/13300 [==============================] - 98s 7ms/step - loss: 0.7459 - acc: 0.7502 - val_loss: 0.7204 - val_acc: 0.7640\n",
      "Epoch 33/40\n",
      "13300/13300 [==============================] - 98s 7ms/step - loss: 0.7254 - acc: 0.7595 - val_loss: 0.6403 - val_acc: 0.7909\n",
      "Epoch 34/40\n",
      "13300/13300 [==============================] - 100s 8ms/step - loss: 0.7072 - acc: 0.7618 - val_loss: 0.6459 - val_acc: 0.7886\n",
      "Epoch 35/40\n",
      "13300/13300 [==============================] - 101s 8ms/step - loss: 0.7026 - acc: 0.7668 - val_loss: 0.6556 - val_acc: 0.7860\n",
      "Epoch 36/40\n",
      "13300/13300 [==============================] - 100s 8ms/step - loss: 0.6870 - acc: 0.7678 - val_loss: 0.6255 - val_acc: 0.8016\n",
      "Epoch 37/40\n",
      "13300/13300 [==============================] - 101s 8ms/step - loss: 0.6798 - acc: 0.7747 - val_loss: 0.6343 - val_acc: 0.7912\n",
      "Epoch 38/40\n",
      "13300/13300 [==============================] - 100s 8ms/step - loss: 0.6663 - acc: 0.7796 - val_loss: 0.6215 - val_acc: 0.7977\n",
      "Epoch 39/40\n",
      "13300/13300 [==============================] - 97s 7ms/step - loss: 0.6677 - acc: 0.7795 - val_loss: 0.6039 - val_acc: 0.7935\n",
      "Epoch 40/40\n",
      "13300/13300 [==============================] - 97s 7ms/step - loss: 0.6670 - acc: 0.7759 - val_loss: 0.5946 - val_acc: 0.8049\n"
     ]
    }
   ],
   "source": [
    "hist1 = model.fit(X_train, y_train,\n",
    "          batch_size=128,\n",
    "          epochs=40,\n",
    "          verbose=1,\n",
    "          validation_data=(X_test, y_test))"
   ]
  },
  {
   "cell_type": "code",
   "execution_count": 197,
   "metadata": {},
   "outputs": [
    {
     "name": "stdout",
     "output_type": "stream",
     "text": [
      "Test score: 0.5945673463846508\n",
      "Test accuracy: 0.8049122807017544\n"
     ]
    },
    {
     "data": {
      "image/png": "[encoded data removed]",
      "text/plain": [
       "<Figure size 432x288 with 1 Axes>"
      ]
     },
     "metadata": {
      "needs_background": "light"
     },
     "output_type": "display_data"
    }
   ],
   "source": [
    "score = model.evaluate(X_test, y_test, verbose=0)\n",
    "print('Test score:', score[0])\n",
    "\n",
    "print('Test accuracy:', score[1])\n",
    "fig,ax = plt.subplots(1,1)\n",
    "ax.set_xlabel('epoch') ; ax.set_ylabel('Sparse Categorical Crossentropy Loss')\n",
    "# list of epoch numbers\n",
    "x = list(range(1,40+1))\n",
    "\n",
    "\n",
    "vy = hist1.history['val_loss']\n",
    "ty = hist1.history['loss']\n",
    "plt_dynamic(x, vy, ty, ax)"
   ]
  },
  {
   "cell_type": "markdown",
   "metadata": {},
   "source": [
    "### Iterating for another 10 epochs"
   ]
  },
  {
   "cell_type": "code",
   "execution_count": 198,
   "metadata": {},
   "outputs": [
    {
     "name": "stdout",
     "output_type": "stream",
     "text": [
      "Train on 13300 samples, validate on 5700 samples\n",
      "Epoch 1/10\n",
      "13300/13300 [==============================] - 96s 7ms/step - loss: 0.6364 - acc: 0.7912 - val_loss: 0.6080 - val_acc: 0.8140\n",
      "Epoch 2/10\n",
      "13300/13300 [==============================] - 96s 7ms/step - loss: 0.6333 - acc: 0.7910 - val_loss: 0.5942 - val_acc: 0.8126\n",
      "Epoch 3/10\n",
      "13300/13300 [==============================] - 99s 7ms/step - loss: 0.6286 - acc: 0.7886 - val_loss: 0.5597 - val_acc: 0.8193\n",
      "Epoch 4/10\n",
      "13300/13300 [==============================] - 97s 7ms/step - loss: 0.6219 - acc: 0.7922 - val_loss: 0.5445 - val_acc: 0.8218\n",
      "Epoch 5/10\n",
      "13300/13300 [==============================] - 96s 7ms/step - loss: 0.6211 - acc: 0.7890 - val_loss: 0.5967 - val_acc: 0.8107\n",
      "Epoch 6/10\n",
      "13300/13300 [==============================] - 98s 7ms/step - loss: 0.6103 - acc: 0.7923 - val_loss: 0.5545 - val_acc: 0.8195\n",
      "Epoch 7/10\n",
      "13300/13300 [==============================] - 98s 7ms/step - loss: 0.6137 - acc: 0.7938 - val_loss: 0.5537 - val_acc: 0.8233\n",
      "Epoch 8/10\n",
      "13300/13300 [==============================] - 98s 7ms/step - loss: 0.6045 - acc: 0.8006 - val_loss: 0.5741 - val_acc: 0.8096\n",
      "Epoch 9/10\n",
      "13300/13300 [==============================] - 96s 7ms/step - loss: 0.5873 - acc: 0.8030 - val_loss: 0.5527 - val_acc: 0.8302\n",
      "Epoch 10/10\n",
      "13300/13300 [==============================] - 98s 7ms/step - loss: 0.5833 - acc: 0.8038 - val_loss: 0.5268 - val_acc: 0.8279\n"
     ]
    }
   ],
   "source": [
    "hist2 = model.fit(X_train, y_train,\n",
    "          batch_size=128,\n",
    "          epochs=10,\n",
    "          verbose=1,\n",
    "          validation_data=(X_test, y_test))"
   ]
  },
  {
   "cell_type": "code",
   "execution_count": 199,
   "metadata": {},
   "outputs": [
    {
     "name": "stdout",
     "output_type": "stream",
     "text": [
      "Test score: 0.5268087197186654\n",
      "Test accuracy: 0.8278947368421052\n"
     ]
    },
    {
     "data": {
      "image/png": "[encoded data removed]",
      "text/plain": [
       "<Figure size 432x288 with 1 Axes>"
      ]
     },
     "metadata": {
      "needs_background": "light"
     },
     "output_type": "display_data"
    }
   ],
   "source": [
    "score = model.evaluate(X_test, y_test, verbose=0)\n",
    "print('Test score:', score[0])\n",
    "\n",
    "print('Test accuracy:', score[1])\n",
    "fig,ax = plt.subplots(1,1)\n",
    "ax.set_xlabel('epoch') ; ax.set_ylabel('Sparse Categorical Crossentropy Loss')\n",
    "# list of epoch numbers\n",
    "x = list(range(1,10+1))\n",
    "\n",
    "\n",
    "vy = hist2.history['val_loss']\n",
    "ty = hist2.history['loss']\n",
    "plt_dynamic(x, vy, ty, ax)"
   ]
  },
  {
   "cell_type": "code",
   "execution_count": 200,
   "metadata": {},
   "outputs": [],
   "source": [
    "model.save(\"music_genre_classn.h5\")"
   ]
  },
  {
   "cell_type": "code",
   "execution_count": null,
   "metadata": {},
   "outputs": [],
   "source": []
  }
 ],
 "metadata": {
  "kernelspec": {
   "display_name": "Python 3",
   "language": "python",
   "name": "python3"
  },
  "language_info": {
   "codemirror_mode": {
    "name": "ipython",
    "version": 3
   },
   "file_extension": ".py",
   "mimetype": "text/x-python",
   "name": "python",
   "nbconvert_exporter": "python",
   "pygments_lexer": "ipython3",
   "version": "3.7.3"
  }
 },
 "nbformat": 4,
 "nbformat_minor": 2
}
